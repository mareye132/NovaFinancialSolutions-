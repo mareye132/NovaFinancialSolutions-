{
 "cells": [
  {
   "cell_type": "code",
   "execution_count": null,
   "metadata": {},
   "outputs": [],
   "source": [
    "# Import necessary libraries\n",
    "import pandas as pd\n",
    "import seaborn as sns\n",
    "import matplotlib.pyplot as plt\n",
    "\n",
    "# Run the task_3_analysis script\n",
    "%run ../scripts/task_3_analysis.py\n",
    "\n",
    "# Load the correlation results\n",
    "correlation_df = pd.read_csv('../scripts/correlation_results.csv')\n",
    "\n",
    "# Visualization - Heatmap\n",
    "plt.figure(figsize=(10, 6))\n",
    "sns.heatmap(correlation_df.set_index('Stock').T, annot=True, cmap='coolwarm', cbar=True)\n",
    "plt.title('Correlation between Sentiment and Stock Returns')\n",
    "plt.show()\n"
   ]
  }
 ],
 "metadata": {
  "language_info": {
   "name": "python"
  }
 },
 "nbformat": 4,
 "nbformat_minor": 2
}
