{
 "cells": [
  {
   "cell_type": "code",
   "execution_count": 13,
   "metadata": {},
   "outputs": [
    {
     "name": "stdout",
     "output_type": "stream",
     "text": [
      "An error occurred while running the script:\n",
      "STDOUT: \n",
      "STDERR:   File \"C:\\Users\\user\\Desktop\\Github\\NovaFinancialSolutions-\\scripts\\quantitative_analysis.py\", line 11\n",
      "    df = df[['Date', 'Open', 'High', 'Low, 'Close', 'Volume']]\n",
      "                                                           ^\n",
      "SyntaxError: unterminated string literal (detected at line 11)\n",
      "\n"
     ]
    }
   ],
   "source": [
    "import subprocess\n",
    "\n",
    "# Define the path to the Python script\n",
    "script_path = 'C:/Users/user/Desktop/Github/NovaFinancialSolutions-/scripts/quantitative_analysis.py'\n",
    "\n",
    "# Run the Python script using subprocess and capture output\n",
    "try:\n",
    "    result = subprocess.run(['python', script_path], capture_output=True, text=True, check=True)\n",
    "    print(\"STDOUT:\", result.stdout)\n",
    "    print(\"STDERR:\", result.stderr)\n",
    "except subprocess.CalledProcessError as e:\n",
    "    print(\"An error occurred while running the script:\")\n",
    "    print(\"STDOUT:\", e.stdout)\n",
    "    print(\"STDERR:\", e.stderr)\n"
   ]
  }
 ],
 "metadata": {
  "kernelspec": {
   "display_name": "Python 3",
   "language": "python",
   "name": "python3"
  },
  "language_info": {
   "codemirror_mode": {
    "name": "ipython",
    "version": 3
   },
   "file_extension": ".py",
   "mimetype": "text/x-python",
   "name": "python",
   "nbconvert_exporter": "python",
   "pygments_lexer": "ipython3",
   "version": "3.12.5"
  }
 },
 "nbformat": 4,
 "nbformat_minor": 2
}
