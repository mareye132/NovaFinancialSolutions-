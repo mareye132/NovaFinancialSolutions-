
# Import the necessary libraries
import os

# Define the path to your script
script_path = '../scripts/quantitative_analysis.py'

# Check if the script exists and run it
if os.path.exists(script_path):
    # %run is a magic command to run a Python script in Jupyter Notebooks
    %run $script_path
else:
    print(f"Script not found: {script_path}")
