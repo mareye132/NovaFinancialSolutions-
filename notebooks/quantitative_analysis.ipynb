{
 "cells": [
  {
   "cell_type": "code",
   "execution_count": null,
   "id": "f0c7e42a",
   "metadata": {},
   "outputs": [],
   "source": [
    "# Import the necessary libraries\n",
    "import os\n",
    "\n",
    "# Define the path to your script\n",
    "script_path = '../scripts/quantitative_analysis.py'\n",
    "\n",
    "# Check if the script exists and run it\n",
    "if os.path.exists(script_path):\n",
    "    %run $script_path\n",
    "else:\n",
    "    print(f\"Script not found: {script_path}\")\n"
   ]
  }
 ],
 "metadata": {
  "kernelspec": {
   "display_name": "Python 3",
   "language": "python",
   "name": "python3"
  },
  "language_info": {
   "codemirror_mode": {
    "name": "ipython",
    "version": 3
   },
   "file_extension": ".py",
   "mimetype": "text/x-python",
   "name": "python",
   "nbconvert_exporter": "python",
   "pygments_lexer": "ipython3",
   "version": "3.8.5"
  }
 },
 "nbformat": 4,
 "nbformat_minor": 5
}
